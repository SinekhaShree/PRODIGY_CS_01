{
 "cells": [
  {
   "cell_type": "code",
   "execution_count": 1,
   "id": "eaf8b21d-f2c9-410d-b5a3-6b07b5fcf819",
   "metadata": {},
   "outputs": [
    {
     "name": "stdout",
     "output_type": "stream",
     "text": [
      "Original: Hello, World!\n",
      "Encrypted: Khoor, Zruog!\n",
      "Decrypted: Hello, World!\n"
     ]
    }
   ],
   "source": [
    "import plotly.graph_objs as go\n",
    "import plotly.offline as pyo\n",
    "from collections import Counter\n",
    "import string\n",
    "\n",
    "def plot_frequency(text, title):\n",
    "    freq = Counter(text.lower())\n",
    "    letters = [char for char in string.ascii_lowercase]\n",
    "    counts = [freq[char] for char in letters]\n",
    "\n",
    "    data = [go.Bar(x=letters, y=counts)]\n",
    "    layout = go.Layout(title=title, xaxis=dict(title='Letters'), yaxis=dict(title='Frequency'))\n",
    "    fig = go.Figure(data=data, layout=layout)\n",
    "    pyo.plot(fig, filename=f'{title.replace(\" \", \"_\").lower()}.html')\n",
    "\n",
    "def encrypt(text, shift):\n",
    "    encrypted_text = \"\"\n",
    "    for char in text:\n",
    "        if char.isalpha():\n",
    "            shift_amount = 65 if char.isupper() else 97\n",
    "            encrypted_text += chr((ord(char) + shift - shift_amount) % 26 + shift_amount)\n",
    "        else:\n",
    "            encrypted_text += char\n",
    "    return encrypted_text\n",
    "\n",
    "def decrypt(text, shift):\n",
    "    return encrypt(text, -shift)\n",
    "\n",
    "message = \"Hello, World!\"\n",
    "shift = 3\n",
    "\n",
    "encrypted_message = encrypt(message, shift)\n",
    "decrypted_message = decrypt(encrypted_message, shift)\n",
    "\n",
    "print(f\"Original: {message}\")\n",
    "print(f\"Encrypted: {encrypted_message}\")\n",
    "print(f\"Decrypted: {decrypted_message}\")\n",
    "\n",
    "plot_frequency(message, \"Original Text Frequency\")\n",
    "plot_frequency(encrypted_message, \"Encrypted Text Frequency\")"
   ]
  },
  {
   "cell_type": "code",
   "execution_count": 2,
   "id": "87a13d24-9f0a-458e-9342-02a9b6feb5ee",
   "metadata": {},
   "outputs": [],
   "source": [
    "def encrypt(text, shift):\n",
    "    encrypted_text = \"\"\n",
    "    for char in text:\n",
    "        if char.isalpha():\n",
    "            shift_amount = 65 if char.isupper() else 97\n",
    "            encrypted_text += chr((ord(char) + shift - shift_amount) % 26 + shift_amount)\n",
    "        else:\n",
    "            encrypted_text += char\n",
    "    return encrypted_text"
   ]
  },
  {
   "cell_type": "code",
   "execution_count": 3,
   "id": "c2c699c3-4b94-4110-a3ce-fbd5f1b5c8c8",
   "metadata": {},
   "outputs": [],
   "source": [
    "def decrypt(text, shift):\n",
    "    return encrypt(text, -shift)"
   ]
  },
  {
   "cell_type": "code",
   "execution_count": 4,
   "id": "269a215b-2753-481e-b4cc-be93345b6bb7",
   "metadata": {},
   "outputs": [],
   "source": [
    "def get_valid_shift():\n",
    "    while True:\n",
    "        try:\n",
    "            shift = int(input(\"Enter the shift value (integer): \"))\n",
    "            return shift % 26\n",
    "        except ValueError:\n",
    "            print(\"Invalid input. Please enter an integer.\")"
   ]
  },
  {
   "cell_type": "code",
   "execution_count": 5,
   "id": "986ad9f2-6710-418f-aec4-5fd722de7454",
   "metadata": {},
   "outputs": [],
   "source": [
    "def get_message():\n",
    "    return input(\"Enter your message: \")"
   ]
  },
  {
   "cell_type": "code",
   "execution_count": 6,
   "id": "6cf6b110-6f63-4b76-9fc3-5362b4afe099",
   "metadata": {},
   "outputs": [],
   "source": [
    "def main():\n",
    "    print(\"Welcome to the Caesar Cipher Program!\")\n",
    "    while True:\n",
    "        choice = input(\"Do you want to (e)ncrypt or (d)ecrypt a message? (q to quit): \").lower()\n",
    "        if choice == 'q':\n",
    "            break\n",
    "        elif choice in ['e', 'd']:\n",
    "            message = get_message()\n",
    "            shift = get_valid_shift()\n",
    "            if choice == 'e':\n",
    "                result = encrypt(message, shift)\n",
    "                print(f\"Encrypted Message: {result}\")\n",
    "            else:\n",
    "                result = decrypt(message, shift)\n",
    "                print(f\"Decrypted Message: {result}\")\n",
    "        else:\n",
    "            print(\"Invalid choice. Please choose 'e' for encrypt, 'd' for decrypt, or 'q' to quit.\")\n",
    "    print(\"Goodbye!\")"
   ]
  },
  {
   "cell_type": "code",
   "execution_count": 7,
   "id": "45af844c-d684-406f-bcba-50824e55338e",
   "metadata": {},
   "outputs": [
    {
     "name": "stdout",
     "output_type": "stream",
     "text": [
      "Welcome to the Caesar Cipher Program!\n"
     ]
    },
    {
     "name": "stdin",
     "output_type": "stream",
     "text": [
      "Do you want to (e)ncrypt or (d)ecrypt a message? (q to quit):  e\n",
      "Enter your message:  SUNSHINE\n",
      "Enter the shift value (integer):  4\n"
     ]
    },
    {
     "name": "stdout",
     "output_type": "stream",
     "text": [
      "Encrypted Message: WYRWLMRI\n"
     ]
    },
    {
     "name": "stdin",
     "output_type": "stream",
     "text": [
      "Do you want to (e)ncrypt or (d)ecrypt a message? (q to quit):  q\n"
     ]
    },
    {
     "name": "stdout",
     "output_type": "stream",
     "text": [
      "Goodbye!\n"
     ]
    }
   ],
   "source": [
    "if __name__ == \"__main__\":\n",
    "    main()"
   ]
  }
 ],
 "metadata": {
  "kernelspec": {
   "display_name": "Python 3 (ipykernel)",
   "language": "python",
   "name": "python3"
  },
  "language_info": {
   "codemirror_mode": {
    "name": "ipython",
    "version": 3
   },
   "file_extension": ".py",
   "mimetype": "text/x-python",
   "name": "python",
   "nbconvert_exporter": "python",
   "pygments_lexer": "ipython3",
   "version": "3.11.5"
  }
 },
 "nbformat": 4,
 "nbformat_minor": 5
}
